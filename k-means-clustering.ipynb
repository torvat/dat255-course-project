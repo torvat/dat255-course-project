{
 "cells": [
  {
   "cell_type": "markdown",
   "metadata": {},
   "source": [
    "# Clustering\n",
    "\n",
    "When you reach a certain length of text to summarize, the other methods become too expensive or are not able to summarize well enough. We need to find a way to extract all the important parts of large texts like books or very big documents, and create a summary from them.\n",
    "\n",
    "Some simple ways to avoid using all the chunks for summarization is either randomly selecting chunks, or spacing out which chunks are selected. But what if we miss out on an important part of the text while doing this?\n",
    "\n",
    "A solution is K-means clustering, where each chunk is embedded, and then clusters are formed based on semantic meaning of those chunks. Then a summary is formed from each cluster, hopefully netting us a more accurate summary of huge texts.\n",
    "\n",
    "Another advantage is the amount of requests sent to the API. While Map Reduction sends many requests, clustering will send only one request, saving a lot of money."
   ]
  },
  {
   "cell_type": "code",
   "execution_count": 46,
   "metadata": {},
   "outputs": [],
   "source": [
    "from dotenv import load_dotenv\n",
    "from utils import read_files, split_document_by_tokens\n",
    "from pathlib import Path\n",
    "\n",
    "import os\n",
    "\n",
    "load_dotenv()\n",
    "OPENAI_API_KEY = os.getenv('OPENAI_API_KEY')\n",
    "documents = read_files(Path('./content/nord-universitet'))\n",
    "doc = documents[1]"
   ]
  },
  {
   "cell_type": "code",
   "execution_count": 70,
   "metadata": {},
   "outputs": [],
   "source": [
    "from langchain.schema import Document\n",
    "\n",
    "content = \"\"\n",
    "\n",
    "for doc in documents:\n",
    "    content += doc.page_content\n",
    "\n",
    "doc = Document(page_content=content)"
   ]
  },
  {
   "cell_type": "markdown",
   "metadata": {},
   "source": [
    "Set up our LLM"
   ]
  },
  {
   "cell_type": "code",
   "execution_count": 71,
   "metadata": {},
   "outputs": [],
   "source": [
    "from langchain_openai import ChatOpenAI\n",
    "\n",
    "llm = ChatOpenAI(openai_api_key=OPENAI_API_KEY, model=\"gpt-3.5-turbo-0125\")"
   ]
  },
  {
   "cell_type": "markdown",
   "metadata": {},
   "source": [
    "We check how many tokens are in our book. Dracula, the book we will summarize, has 216728 tokens. Yikes!\n",
    "\n",
    "Using map reduction or stuffing on this text would cause a lot of tokens to be sent to the LLM, hurting our wallet."
   ]
  },
  {
   "cell_type": "code",
   "execution_count": 72,
   "metadata": {},
   "outputs": [
    {
     "name": "stdout",
     "output_type": "stream",
     "text": [
      "Our text has 137135 tokens\n"
     ]
    }
   ],
   "source": [
    "num_tokens = llm.get_num_tokens(doc.page_content)\n",
    "print(f'Our text has {num_tokens} tokens')"
   ]
  },
  {
   "cell_type": "markdown",
   "metadata": {},
   "source": [
    "So, we need to start with splitting our book into chunks. To do this I will split by tokens."
   ]
  },
  {
   "cell_type": "code",
   "execution_count": 73,
   "metadata": {},
   "outputs": [
    {
     "name": "stdout",
     "output_type": "stream",
     "text": [
      "Now our document is split up into 93 documents\n"
     ]
    }
   ],
   "source": [
    "split_docs = split_document_by_tokens([doc], chunk_size=2000, overlap=200)\n",
    "print(f'Now our document is split up into {len(split_docs)} documents')"
   ]
  },
  {
   "cell_type": "markdown",
   "metadata": {},
   "source": [
    "### Embedding\n",
    "\n",
    "Clustering relies on embeddings to work. Embeddings are vector representations of text, so that LLMs can work with them (LLMs don't understand human readable text, they understand numbers).\n",
    "Therefore we need to create embeddings from our documents."
   ]
  },
  {
   "cell_type": "code",
   "execution_count": 74,
   "metadata": {},
   "outputs": [],
   "source": [
    "from langchain_openai import OpenAIEmbeddings\n",
    "\n",
    "embeddings = OpenAIEmbeddings(openai_api_key=OPENAI_API_KEY, model='text-embedding-3-small')\n",
    "\n",
    "vectors = embeddings.embed_documents([doc.page_content for doc in split_docs])"
   ]
  },
  {
   "cell_type": "markdown",
   "metadata": {},
   "source": [
    "### Clustering\n",
    "\n",
    "There are many different clustering algorithms to choose from. Let's try a few of them. We'll start with KMeans clustering. To begin with, we are setting the number of clusters manually, to 11."
   ]
  },
  {
   "cell_type": "code",
   "execution_count": 75,
   "metadata": {},
   "outputs": [],
   "source": [
    "from sklearn.cluster import KMeans\n",
    "\n",
    "num_clusters = 11\n",
    "\n",
    "kmeans = KMeans(n_clusters=num_clusters, random_state=42).fit(vectors)"
   ]
  },
  {
   "cell_type": "code",
   "execution_count": 76,
   "metadata": {},
   "outputs": [
    {
     "data": {
      "text/plain": [
       "array([ 8,  8,  8,  8,  5,  5,  5,  1,  6,  6,  6,  6,  6,  4,  4,  4,  4,\n",
       "        4,  4,  4,  4,  4,  4,  4,  4,  4,  2,  0,  0,  0,  0,  0,  0,  0,\n",
       "        0,  0,  3,  3,  3, 10, 10,  2,  2,  2,  2,  5,  5,  5,  5,  1,  1,\n",
       "        1,  1,  1,  3,  3,  7,  7,  7,  7,  7,  7, 10,  0,  3,  3,  3,  3,\n",
       "        3,  3,  3,  3, 10, 10, 10,  3,  2,  2,  4,  2,  2,  2,  2,  2,  2,\n",
       "        7,  2,  2,  2,  9,  9,  9,  9], dtype=int32)"
      ]
     },
     "execution_count": 76,
     "metadata": {},
     "output_type": "execute_result"
    }
   ],
   "source": [
    "kmeans.labels_"
   ]
  },
  {
   "cell_type": "markdown",
   "metadata": {},
   "source": [
    "Time to visualize"
   ]
  },
  {
   "cell_type": "code",
   "execution_count": 77,
   "metadata": {},
   "outputs": [],
   "source": [
    "from sklearn.manifold import TSNE\n",
    "import matplotlib.pyplot as plt\n",
    "import numpy as np\n",
    "\n",
    "def plot_clusters(vectors, algo):\n",
    "    tsne = TSNE(n_components=2, random_state=42)\n",
    "    vectors = np.array(vectors)\n",
    "    reduced_data_tsne = tsne.fit_transform(vectors)\n",
    "\n",
    "    plt.scatter(reduced_data_tsne[:, 0], reduced_data_tsne[:, 1], c=algo.labels_)\n",
    "    plt.xlabel('Dimension 1')\n",
    "    plt.ylabel('Dimension 2')\n",
    "    plt.title('Cluster visualization')\n",
    "    plt.show()"
   ]
  },
  {
   "cell_type": "markdown",
   "metadata": {},
   "source": [
    "### Silhouette Scoring\n",
    "\n",
    "But how can we know that our selected number of clusters is the correct one?\n",
    "We need ways to find the optimal number of clusters for our chunks.\n",
    "A way to do this for KMeans clustering is what is called Silhouette scoring."
   ]
  },
  {
   "cell_type": "code",
   "execution_count": 78,
   "metadata": {},
   "outputs": [],
   "source": [
    "from sklearn.metrics import silhouette_score\n",
    "\n",
    "def find_optimal_clusters(vectors, max_k):\n",
    "    score = -1\n",
    "    best_n_clusters = 0\n",
    "    for k in range(2, max_k):\n",
    "        kmeans = KMeans(n_clusters=k, random_state=1).fit_predict(vectors)\n",
    "        new_score = silhouette_score(vectors, kmeans)\n",
    "        if new_score > score:\n",
    "            best_n_clusters = k\n",
    "            score = new_score\n",
    "        print(f\"For n_clusters = {k}, silhouette score is {new_score})\")\n",
    "    print(f\"Best number of clusters is {best_n_clusters}\")\n",
    "    return best_n_clusters"
   ]
  },
  {
   "cell_type": "code",
   "execution_count": 79,
   "metadata": {},
   "outputs": [
    {
     "name": "stdout",
     "output_type": "stream",
     "text": [
      "For n_clusters = 2, silhouette score is 0.23293694126495937)\n",
      "For n_clusters = 3, silhouette score is 0.17584240508130475)\n",
      "For n_clusters = 4, silhouette score is 0.16690842284141724)\n",
      "For n_clusters = 5, silhouette score is 0.11459597345735821)\n",
      "For n_clusters = 6, silhouette score is 0.09039799639025853)\n",
      "For n_clusters = 7, silhouette score is 0.07587504880295566)\n",
      "For n_clusters = 8, silhouette score is 0.11530396408282916)\n",
      "For n_clusters = 9, silhouette score is 0.11039447594718674)\n",
      "For n_clusters = 10, silhouette score is 0.11148730768732826)\n",
      "For n_clusters = 11, silhouette score is 0.10520080243559334)\n",
      "For n_clusters = 12, silhouette score is 0.1120688657473839)\n",
      "For n_clusters = 13, silhouette score is 0.11513871640402203)\n",
      "For n_clusters = 14, silhouette score is 0.11789389085968689)\n",
      "For n_clusters = 15, silhouette score is 0.11291548961109166)\n",
      "For n_clusters = 16, silhouette score is 0.10637631200110255)\n",
      "For n_clusters = 17, silhouette score is 0.10790680413182988)\n",
      "For n_clusters = 18, silhouette score is 0.11641354044021887)\n",
      "For n_clusters = 19, silhouette score is 0.1047930837569986)\n",
      "Best number of clusters is 2\n"
     ]
    },
    {
     "data": {
      "image/png": "[encoded data removed]",
      "text/plain": [
       "<Figure size 640x480 with 1 Axes>"
      ]
     },
     "metadata": {},
     "output_type": "display_data"
    }
   ],
   "source": [
    "num_clusters = find_optimal_clusters(vectors, max_k=20)\n",
    "kmeans = KMeans(n_clusters=num_clusters, random_state=1).fit(vectors)\n",
    "plot_clusters(vectors, kmeans)"
   ]
  },
  {
   "cell_type": "markdown",
   "metadata": {},
   "source": [
    "Get the vectors which are closest to the center of the cluster, then sort them so that they are processed in order.\n",
    "Lastly, we fetch the document from that index."
   ]
  },
  {
   "cell_type": "code",
   "execution_count": 80,
   "metadata": {},
   "outputs": [],
   "source": [
    "def get_key_chunks(vectors, alg, num_clusters, documents):\n",
    "    closest_indices = []\n",
    "\n",
    "    for i in range(num_clusters):\n",
    "        distances = np.linalg.norm(vectors - alg.cluster_centers_[i], axis=1)\n",
    "\n",
    "        closest_index = np.argmin(distances)\n",
    "        closest_indices.append(closest_index)\n",
    "\n",
    "    selected_indices = sorted(closest_indices)\n",
    "    selected_docs = [documents[doc] for doc in selected_indices]\n",
    "    return selected_docs"
   ]
  },
  {
   "cell_type": "code",
   "execution_count": 81,
   "metadata": {},
   "outputs": [],
   "source": [
    "from langchain import PromptTemplate\n",
    "\n",
    "map_prompt = \"\"\"\n",
    "You will be given a piece of a larger text. This piece of text will be enclosed in triple backticks (```).\n",
    "Your job is to give a summary of this piece of text so that the reader will have a full understanding of what the text is about.\n",
    "Your response should be at least three paragraphs and fully encompass what was written in the piece of text.\n",
    "\n",
    "```{text}```\n",
    "FULL SUMMARY:\n",
    "\"\"\"\n",
    "\n",
    "map_prompt_template = PromptTemplate(template=map_prompt, input_variables=[\"text\"])"
   ]
  },
  {
   "cell_type": "code",
   "execution_count": 82,
   "metadata": {},
   "outputs": [
    {
     "name": "stdout",
     "output_type": "stream",
     "text": [
      "Summary #0 - Preview: The given text provides recommendations on choosing a Content Management System (CMS) for Nord University. It highlights four platforms that stand out: Wordpress, Episerver, Umbraco, and Craft. Episerver and Umbraco, being part of the Microsoft famil \n",
      "\n",
      "Summary #1 - Preview: The text outlines the terms and conditions regarding the pricing, extension, and responsibilities of the service provider (Leverandøren) and the customer (Kunden) in a contractual agreement. It specifies that the customer is not required to pay any f \n",
      "\n"
     ]
    }
   ],
   "source": [
    "from langchain.chains.summarize import load_summarize_chain\n",
    "\n",
    "map_chain = load_summarize_chain(llm=llm, chain_type=\"stuff\", prompt=map_prompt_template)\n",
    "\n",
    "summary_list = []\n",
    "\n",
    "selected_docs = get_key_chunks(vectors, kmeans, num_clusters, split_docs)\n",
    "\n",
    "for i, doc in enumerate(selected_docs):\n",
    "    chunk_summary = map_chain.run([doc])\n",
    "    summary_list.append(chunk_summary)\n",
    "\n",
    "    print(f'Summary #{i} - Preview: {chunk_summary[:250]} \\n')"
   ]
  },
  {
   "cell_type": "code",
   "execution_count": 83,
   "metadata": {},
   "outputs": [],
   "source": [
    "llm4 = ChatOpenAI(openai_api_key=OPENAI_API_KEY, model=\"gpt-4-turbo-preview\")"
   ]
  },
  {
   "cell_type": "code",
   "execution_count": 84,
   "metadata": {},
   "outputs": [
    {
     "name": "stdout",
     "output_type": "stream",
     "text": [
      "All your summaries together are 540 tokens\n"
     ]
    }
   ],
   "source": [
    "from langchain.schema import Document\n",
    "summaries = \"\\n\".join(summary_list)\n",
    "\n",
    "summaries = Document(page_content=summaries)\n",
    "\n",
    "print(f'All your summaries together are {llm.get_num_tokens(summaries.page_content)} tokens')"
   ]
  },
  {
   "cell_type": "code",
   "execution_count": 85,
   "metadata": {},
   "outputs": [],
   "source": [
    "combine_prompt = \"\"\"\n",
    "You will now be given a series of summaries from a larger text. The summaries will be enclosed in triple backticks(```).\n",
    "Your goal is to give a summary of what happened in the greater piece of text.\n",
    "The reader should be able to grasp what the full text is about from your summary.\n",
    "\n",
    "```{text}```\n",
    "SUMMARY:\n",
    "\"\"\"\n",
    "\n",
    "combine_prompt_template = PromptTemplate(template=combine_prompt, input_variables=[\"text\"])"
   ]
  },
  {
   "cell_type": "code",
   "execution_count": 86,
   "metadata": {},
   "outputs": [],
   "source": [
    "reduce_chain = load_summarize_chain(llm=llm4, chain_type=\"stuff\", prompt=combine_prompt_template)\n",
    "\n",
    "output = reduce_chain.run([summaries])"
   ]
  },
  {
   "cell_type": "code",
   "execution_count": 87,
   "metadata": {},
   "outputs": [
    {
     "name": "stdout",
     "output_type": "stream",
     "text": [
      "The larger text provides a comprehensive guide on selecting a Content Management System (CMS) for Nord University, evaluating platforms like Wordpress, Episerver, Umbraco, and Craft based on various criteria including cost, SEO, user experience, and their current phases of development. It emphasizes the need for the university's website to quickly convert visitors into users by being visually appealing, user-friendly, and effectively targeting various user groups to relevant content and landing pages. The text also covers technical aspects of CMS setup such as template design, validation, SEO, user experience checks, and the importance of a streamlined website architecture through access control, data management, and content hierarchy. Additionally, it discusses SEO strategies, sustainability practices, and performance metrics vital for the website's success.\n",
      "\n",
      "Moreover, the text outlines contractual terms between the service provider and the customer, detailing conditions around fees, termination rights, temporary extensions, and responsibilities related to service delivery, personnel competence, and subcontractor management. It specifies the customer's rights concerning withholding payments for unmet service standards, particularly in relation to labor laws and working conditions, and outlines the obligations of both parties within the service agreement. Overall, the text serves as a detailed guide for Nord University in revamping its website, focusing on both the strategic selection of a CMS platform and the legal and operational considerations of engaging with a service provider.\n"
     ]
    }
   ],
   "source": [
    "print(output)"
   ]
  }
 ],
 "metadata": {
  "kernelspec": {
   "display_name": ".venv",
   "language": "python",
   "name": "python3"
  },
  "language_info": {
   "codemirror_mode": {
    "name": "ipython",
    "version": 3
   },
   "file_extension": ".py",
   "mimetype": "text/x-python",
   "name": "python",
   "nbconvert_exporter": "python",
   "pygments_lexer": "ipython3",
   "version": "3.11.7"
  }
 },
 "nbformat": 4,
 "nbformat_minor": 2
}
